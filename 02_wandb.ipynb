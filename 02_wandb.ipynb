{
 "cells": [
  {
   "cell_type": "markdown",
   "id": "4926a340-c3bd-4037-ba29-e7425783d4bd",
   "metadata": {},
   "source": [
    "# Weights and Biases integration"
   ]
  },
  {
   "cell_type": "code",
   "execution_count": 1,
   "id": "18f50921-ff62-4e4c-a20d-e720a1687e8d",
   "metadata": {},
   "outputs": [],
   "source": [
    "#| default_exp wandb"
   ]
  },
  {
   "cell_type": "code",
   "execution_count": 2,
   "id": "58919a21-2fca-45c6-8d99-8315b3031c40",
   "metadata": {},
   "outputs": [],
   "source": [
    "#| export\n",
    "from torch.utils.data import Dataset\n",
    "from pathlib import Path\n",
    "from dataclasses import dataclass\n",
    "\n",
    "import wandb\n",
    "from fastprogress import progress_bar"
   ]
  },
  {
   "cell_type": "code",
   "execution_count": 3,
   "id": "18cba127-84c3-484d-ae0e-d19393471846",
   "metadata": {},
   "outputs": [],
   "source": [
    "#| export\n",
    "@dataclass\n",
    "class WandbConfig:\n",
    "    \"A minimal config for wandb\"\n",
    "    project: str\n",
    "    entity: str = None"
   ]
  },
  {
   "cell_type": "code",
   "execution_count": 4,
   "id": "dab05636-945c-4b18-ac56-b06811728f44",
   "metadata": {},
   "outputs": [],
   "source": [
    "config = WandbConfig(\"capetorch\", \"capecape\")"
   ]
  },
  {
   "cell_type": "markdown",
   "id": "9654a682-239b-481b-80c7-0fd843033252",
   "metadata": {},
   "source": [
    "## Log a Torchvision dataset to W&B"
   ]
  },
  {
   "cell_type": "code",
   "execution_count": 13,
   "id": "934e96d2-8379-43b5-9ab7-7a655fafc190",
   "metadata": {},
   "outputs": [],
   "source": [
    "#| export\n",
    "class ImageDatasetLogger:\n",
    "    \"Log a torchvision dataset with Images as a Table\"\n",
    "    def __init__(self, \n",
    "                 ds: Dataset, \n",
    "                 image_mode:str=\"RGB\", \n",
    "                 n:int=None, \n",
    "                 log_raw:bool=True,\n",
    "                 log2workspace:bool=True, \n",
    "                 artifact_name:str=\"image_dataset\",\n",
    "                 table_name:str=\"image_dataset_table\"\n",
    "                ):\n",
    "        \n",
    "        self.ds = ds\n",
    "        self.image_mode = image_mode\n",
    "        self.n = n\n",
    "        self.log_raw = log_raw\n",
    "        self.log2workspace = log2workspace\n",
    "        self.artifact_name = artifact_name\n",
    "        self.table_name = table_name\n",
    "        \n",
    "        # create artifact\n",
    "        self.ds_at = wandb.Artifact(self.artifact_name, type=\"data\")\n",
    "            \n",
    "        \n",
    "    def __repr__(self):\n",
    "        return self.ds.__repr__()\n",
    "    \n",
    "    def add_raw(self):\n",
    "        try:\n",
    "            path = Path(getattr(self.ds, \"raw_folder\")).parent\n",
    "            self.ds_at.add_dir(path)\n",
    "        except:\n",
    "            raise Exception(\"Error finding the folder for the dataset\")\n",
    "    \n",
    "    def _dataset_table(self):\n",
    "        \"Create a wanb.Table with validation data\" \n",
    "        ds_table = wandb.Table(columns = [\"image\", \"label\"])\n",
    "        pbar = progress_bar(self.ds, total=len(self.ds), leave=False)\n",
    "        pbar.comment = \"Creating W&B Table with validation DL\"\n",
    "        for i, (img, lbl) in enumerate(pbar):\n",
    "            if self.n is not None and i>=self.n:\n",
    "                break\n",
    "            ds_table.add_data(wandb.Image(img, mode=self.image_mode), lbl)\n",
    "        return ds_table\n",
    "    \n",
    "    def add_dataset_table(self):\n",
    "        \"Add the dataset as a wandb.Table\"\n",
    "        self.ds_table = self._dataset_table()\n",
    "        \n",
    "        assert wandb.run is not None, \"Execute this function within a wandb run\"\n",
    "        self.ds_at.add(self.ds_table, self.table_name)\n",
    "            \n",
    "    def _log(self):\n",
    "        # log to W&B\n",
    "        wandb.log_artifact(self.ds_at)\n",
    "        \n",
    "        # log table also to workspace\n",
    "        if self.log2workspace:\n",
    "            wandb.log({self.table_name: self.ds_table})\n",
    "            \n",
    "    def log_table(self):    \n",
    "        # add table\n",
    "        self.add_dataset_table()\n",
    "        \n",
    "        # log to W&B\n",
    "        self._log()\n",
    "        \n",
    "    def log_all(self):\n",
    "        # add raw folder\n",
    "        if self.log_raw and self.n is None:\n",
    "            self.add_raw()\n",
    "        \n",
    "        self.log_table()"
   ]
  },
  {
   "cell_type": "code",
   "execution_count": 14,
   "id": "f42778b6-68f9-4e69-b81e-fc2be4806cff",
   "metadata": {},
   "outputs": [],
   "source": [
    "import torchvision as tv\n",
    "ds = tv.datasets.FashionMNIST(\".\", download=True, train=False)"
   ]
  },
  {
   "cell_type": "code",
   "execution_count": 17,
   "id": "c8394ebc-2b95-458b-b582-888332ac856b",
   "metadata": {},
   "outputs": [],
   "source": [
    "wdsl = ImageDatasetLogger(ds, n=100)"
   ]
  },
  {
   "cell_type": "code",
   "execution_count": 18,
   "id": "6ab258e1-00f4-4077-9228-6740af70a807",
   "metadata": {},
   "outputs": [
    {
     "data": {
      "text/html": [
       "Tracking run with wandb version 0.13.7"
      ],
      "text/plain": [
       "<IPython.core.display.HTML object>"
      ]
     },
     "metadata": {},
     "output_type": "display_data"
    },
    {
     "data": {
      "text/html": [
       "Run data is saved locally in <code>/home/tcapelle/wandb/capetorch/wandb/run-20221220_212909-fctuk7dg</code>"
      ],
      "text/plain": [
       "<IPython.core.display.HTML object>"
      ]
     },
     "metadata": {},
     "output_type": "display_data"
    },
    {
     "data": {
      "text/html": [
       "Syncing run <strong><a href=\"https://wandb.ai/capecape/capetorch/runs/fctuk7dg\" target=\"_blank\">sweet-voice-9</a></strong> to <a href=\"https://wandb.ai/capecape/capetorch\" target=\"_blank\">Weights & Biases</a> (<a href=\"https://wandb.me/run\" target=\"_blank\">docs</a>)<br/>"
      ],
      "text/plain": [
       "<IPython.core.display.HTML object>"
      ]
     },
     "metadata": {},
     "output_type": "display_data"
    },
    {
     "data": {
      "text/html": [
       "\n",
       "<style>\n",
       "    /* Turns off some styling */\n",
       "    progress {\n",
       "        /* gets rid of default border in Firefox and Opera. */\n",
       "        border: none;\n",
       "        /* Needs to be in here for Safari polyfill so background images work as expected. */\n",
       "        background-size: auto;\n",
       "    }\n",
       "    progress:not([value]), progress:not([value])::-webkit-progress-bar {\n",
       "        background: repeating-linear-gradient(45deg, #7e7e7e, #7e7e7e 10px, #5c5c5c 10px, #5c5c5c 20px);\n",
       "    }\n",
       "    .progress-bar-interrupted, .progress-bar-interrupted::-webkit-progress-bar {\n",
       "        background: #F44336;\n",
       "    }\n",
       "</style>\n"
      ],
      "text/plain": [
       "<IPython.core.display.HTML object>"
      ]
     },
     "metadata": {},
     "output_type": "display_data"
    },
    {
     "data": {
      "text/html": [
       "\n",
       "    <div>\n",
       "      <progress value='5' class='' max='10000' style='width:300px; height:20px; vertical-align: middle;'></progress>\n",
       "      0.05% [5/10000 00:00&lt;00:16 Creating W&B Table with validation DL]\n",
       "    </div>\n",
       "    "
      ],
      "text/plain": [
       "<IPython.core.display.HTML object>"
      ]
     },
     "metadata": {},
     "output_type": "display_data"
    },
    {
     "data": {
      "text/html": [
       "Waiting for W&B process to finish... <strong style=\"color:green\">(success).</strong>"
      ],
      "text/plain": [
       "<IPython.core.display.HTML object>"
      ]
     },
     "metadata": {},
     "output_type": "display_data"
    },
    {
     "data": {
      "text/html": [
       "Synced <strong style=\"color:#cdcd00\">sweet-voice-9</strong>: <a href=\"https://wandb.ai/capecape/capetorch/runs/fctuk7dg\" target=\"_blank\">https://wandb.ai/capecape/capetorch/runs/fctuk7dg</a><br/>Synced 5 W&B file(s), 1 media file(s), 101 artifact file(s) and 0 other file(s)"
      ],
      "text/plain": [
       "<IPython.core.display.HTML object>"
      ]
     },
     "metadata": {},
     "output_type": "display_data"
    },
    {
     "data": {
      "text/html": [
       "Find logs at: <code>./wandb/run-20221220_212909-fctuk7dg/logs</code>"
      ],
      "text/plain": [
       "<IPython.core.display.HTML object>"
      ]
     },
     "metadata": {},
     "output_type": "display_data"
    }
   ],
   "source": [
    "with wandb.init(project=config.project):\n",
    "    wdsl.log_all()"
   ]
  },
  {
   "cell_type": "markdown",
   "id": "c683bc1d-4834-4eec-9977-4a775e930831",
   "metadata": {},
   "source": [
    "## Log predictions"
   ]
  },
  {
   "cell_type": "code",
   "execution_count": 25,
   "id": "717c8775-785c-487d-8da4-97fc7dcbc230",
   "metadata": {},
   "outputs": [],
   "source": [
    "api = wandb.Api()"
   ]
  },
  {
   "cell_type": "code",
   "execution_count": 29,
   "id": "4dd42522-9d45-4e8b-9076-605b4dbd3d50",
   "metadata": {},
   "outputs": [],
   "source": [
    "at = api.artifact(\"capetorch/image_dataset:latest\")"
   ]
  },
  {
   "cell_type": "code",
   "execution_count": 39,
   "id": "5ba63234-b369-486b-9e59-16695a902897",
   "metadata": {},
   "outputs": [
    {
     "name": "stderr",
     "output_type": "stream",
     "text": [
      "\u001b[34m\u001b[1mwandb\u001b[0m:   101 of 101 files downloaded.  \n"
     ]
    },
    {
     "data": {
      "text/plain": [
       "<wandb.data_types.Table at 0x7f2422598520>"
      ]
     },
     "execution_count": 39,
     "metadata": {},
     "output_type": "execute_result"
    }
   ],
   "source": [
    "at.get(\"image_dataset_table\")"
   ]
  },
  {
   "cell_type": "code",
   "execution_count": 53,
   "id": "1e46f14a-2555-4544-86b1-d11a54c4ab66",
   "metadata": {},
   "outputs": [],
   "source": [
    "def not_none(o):\n",
    "    if isinstance(o, (list, tuple)):\n",
    "        return all(not_none(x) for x in o)\n",
    "    return o is not None"
   ]
  },
  {
   "cell_type": "code",
   "execution_count": 55,
   "id": "b708d202-9a45-43e5-868a-16486741c533",
   "metadata": {},
   "outputs": [
    {
     "data": {
      "text/plain": [
       "False"
      ]
     },
     "execution_count": 55,
     "metadata": {},
     "output_type": "execute_result"
    }
   ],
   "source": [
    "not_none([1,2,None])"
   ]
  },
  {
   "cell_type": "code",
   "execution_count": 56,
   "id": "2a225c75-5a05-4216-835a-a44090a45338",
   "metadata": {},
   "outputs": [
    {
     "data": {
      "text/plain": [
       "True"
      ]
     },
     "execution_count": 56,
     "metadata": {},
     "output_type": "execute_result"
    }
   ],
   "source": [
    "not_none(2)"
   ]
  },
  {
   "cell_type": "code",
   "execution_count": null,
   "id": "cee4db3b-1bf3-42f3-a2b7-6c7ebc562595",
   "metadata": {},
   "outputs": [],
   "source": [
    "class ModelPredictionsLogger:\n",
    "    \"\"\"\n",
    "    Log model predictions on the validation datasets, it references the previously logged dataset\n",
    "    \"\"\"\n",
    "    def __init__(self, ds, n_preds=None, ds_data_at=None, ds_table_name=None, log2workspace=True):\n",
    "        self.ds = ds\n",
    "        self.n_preds = n_preds\n",
    "        self.ds_data_at = ds_data_at\n",
    "        self.ds_table_name = ds_table_name\n",
    "        self.log2workspace = log2workspace\n",
    "        \n",
    "        if not_none([ds_data_at, ds_table_name]):\n",
    "            self.ds_table = _get_reference_table(ds_data_at, ds_table_name)\n",
    "            \n",
    "        \n",
    "    def _get_reference_table(self):\n",
    "        artifact = wandb.use_artifact(self.ds_data_at, type='data')\n",
    "        return artifact.get(\"ds_table\")\n",
    "    \n",
    "    def _init_preds_table(self, num_classes=10):\n",
    "        \"Create predictions table\"\n",
    "        self.preds_table = wandb.Table(columns=[\"image\", \"label\", \"preds\"]+[f\"prob_{i}\" for i in range(num_classes)])\n",
    "        \n",
    "    def create_preds_table(self, preds, n=None):\n",
    "        if self.ds_table is None:\n",
    "            print(\"No val table reference found\")\n",
    "            return\n",
    "        table_idxs = self.ds_table.get_index()\n",
    "        \n",
    "        if isinstance(preds, torch.Tensor):\n",
    "            preds = preds.cpu().numpy()\n",
    "                 \n",
    "        for idx in progress_bar(table_idxs[:n], leave=False):\n",
    "            pred = preds[idx]\n",
    "            self.preds_table.add_data(\n",
    "                self.ds_table.data[idx][1],\n",
    "                self.ds_table.data[idx][2],\n",
    "                pred.argmax(),\n",
    "                *pred\n",
    "            )\n",
    "    \n",
    "    def log(self, preds, n=None, table_name=\"preds_table\", aliases=None):\n",
    "        if len(preds.shape) == 2:\n",
    "            num_classes = preds.shape[1]\n",
    "        else:\n",
    "            raise Error(\"The preds tensor must have rank 1 or 2, no more or less\")\n",
    "        \n",
    "        # get the validation data from the reference\n",
    "        self._get_reference_table()\n",
    "            \n",
    "        # create the Predictions Table \n",
    "        self._init_preds_table(num_classes=num_classes)\n",
    "        \n",
    "        # Populate the Table with the model predictions\n",
    "        self.create_preds_table(preds, n=n)\n",
    "        \n",
    "        # Log to W&B\n",
    "        assert wandb.run is not None, \"Execute this inside a wandb run\"\n",
    "        pred_artifact = wandb.Artifact(f\"run_{wandb.run.id}_preds\", type=\"evaluation\")\n",
    "        pred_artifact.add(self.preds_table, table_name)\n",
    "        wandb.log_artifact(pred_artifact, aliases=aliases or [\"latest\"])\n",
    "        \n",
    "        # Log the Table to the workspace\n",
    "        if self.log2workspace:\n",
    "            wandb.log({\"preds_table\":self.preds_table}) "
   ]
  }
 ],
 "metadata": {
  "kernelspec": {
   "display_name": "Python 3 (ipykernel)",
   "language": "python",
   "name": "python3"
  },
  "language_info": {
   "codemirror_mode": {
    "name": "ipython",
    "version": 3
   },
   "file_extension": ".py",
   "mimetype": "text/x-python",
   "name": "python",
   "nbconvert_exporter": "python",
   "pygments_lexer": "ipython3",
   "version": "3.9.15"
  }
 },
 "nbformat": 4,
 "nbformat_minor": 5
}
