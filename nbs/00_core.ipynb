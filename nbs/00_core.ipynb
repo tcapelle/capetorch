{
 "cells": [
  {
   "cell_type": "markdown",
   "metadata": {},
   "source": [
    "# Model Class\n",
    "\n",
    "> The idea here is making a PyTorch Model class that looks like Keras and enable us to train model!"
   ]
  },
  {
   "cell_type": "code",
   "execution_count": 163,
   "metadata": {},
   "outputs": [],
   "source": [
    "#| default_exp model"
   ]
  },
  {
   "cell_type": "code",
   "execution_count": 164,
   "metadata": {},
   "outputs": [],
   "source": [
    "#| hide\n",
    "from nbdev.showdoc import *"
   ]
  },
  {
   "cell_type": "markdown",
   "metadata": {},
   "source": [
    "Some Torch imports that are useful!"
   ]
  },
  {
   "cell_type": "code",
   "execution_count": 165,
   "metadata": {},
   "outputs": [],
   "source": [
    "#| export\n",
    "from types import SimpleNamespace\n",
    "from contextlib import nullcontext\n",
    "\n",
    "from fastprogress import progress_bar\n",
    "\n",
    "import torch\n",
    "import torch.nn as nn\n",
    "from torch.optim import AdamW\n",
    "from torch.optim.lr_scheduler import OneCycleLR\n",
    "from torch.utils.data import DataLoader\n",
    "\n",
    "from torchmetrics import Metric, Accuracy\n",
    "\n",
    "from capetorch.utils import ifnone, to_device"
   ]
  },
  {
   "cell_type": "code",
   "execution_count": 166,
   "metadata": {},
   "outputs": [],
   "source": [
    "#| export\n",
    "DEFAULT_DEVICE = \"cuda\" if torch.cuda.is_available() else \"cpu\""
   ]
  },
  {
   "cell_type": "code",
   "execution_count": 167,
   "metadata": {},
   "outputs": [],
   "source": [
    "d = torch.device(\"cuda:0\")"
   ]
  },
  {
   "cell_type": "code",
   "execution_count": 168,
   "metadata": {},
   "outputs": [],
   "source": [
    "#| export\n",
    "if torch.cuda.is_available():\n",
    "    mixed_precision = torch.autocast(\"cuda\")"
   ]
  },
  {
   "cell_type": "code",
   "execution_count": 194,
   "metadata": {},
   "outputs": [],
   "source": [
    "class Metrics:\n",
    "    def __init__(self, train, valid):\n",
    "        self.train = [train, ] if not isinstance(train, list) else train\n",
    "        self.valid = [valid, ] if not isinstance(valid, list) else valid\n",
    "    \n",
    "    @staticmethod\n",
    "    def metric_name(m, suffix): \n",
    "        return suffix + (type(m).__name__).lower()\n",
    "    \n",
    "    def update_train(self, preds_b, labels_b):\n",
    "        return {self.metric_name(m, \"train_\"): m(preds_b, labels_b) for m in self.train}\n",
    "    \n",
    "    def update_valid(self, preds_b, labels_b):\n",
    "        return {self.metric_name(m, \"valid_\"): m(preds_b, labels_b) for m in self.valid}\n",
    "    \n",
    "    def compute_train(self):\n",
    "        return {self.metric_name(m, \"train_\"): m.compute for m in self.train}\n",
    "    \n",
    "    def compute_valid(self):\n",
    "        return {self.metric_name(m, \"valid_\"): m.compute for m in self.valid}\n",
    "    \n",
    "    def reset(self):\n",
    "        for m in self.train + self.valid:\n",
    "            m.reset()"
   ]
  },
  {
   "cell_type": "code",
   "execution_count": 195,
   "metadata": {},
   "outputs": [],
   "source": [
    "#| export\n",
    "class CapeModel:\n",
    "    def __init__(self, model, train_dataloader=None, valid_dataloader=None, device=None, fp16=True, use_wandb=False):\n",
    "        \n",
    "        self.device = torch.device(ifnone(device, DEFAULT_DEVICE))\n",
    "        self.model = model.to(self.device)\n",
    "        self.fp16 = fp16 if self.device.type == \"cuda\" else False\n",
    "        self.use_wandb = use_wandb\n",
    "        \n",
    "        self.config = SimpleNamespace(model_name=model.__class__, device=device)\n",
    "        self.train_dataloader = train_dataloader\n",
    "        self.valid_dataloader = valid_dataloader\n",
    "        \n",
    "    def _defaults(self, epochs=5, lr=2e-3, wd=0.01):\n",
    "        self.optimizer = AdamW(self.model.parameters(), weight_decay=wd)\n",
    "        self.loss_func = nn.CrossEntropyLoss()\n",
    "        self.scheduler = OneCycleLR(self.optimizer, max_lr=lr, \n",
    "                                    steps_per_epoch=len(self.train_dataloader), \n",
    "                                    epochs=epochs)\n",
    "        \n",
    "        self.metrics = Metrics([Accuracy(task=\"multiclass\").to(self.device), ],\n",
    "                               [Accuracy(task=\"multiclass\").to(self.device), ])\n",
    "        \n",
    "    def log(self, d):\n",
    "        if self.use_wandb:\n",
    "            wandb.log(d)\n",
    "            \n",
    "    def prepare(self, epochs=5, lr=2e-3, wd=0.01, optimizer=None, \n",
    "                loss_func=None, scheduler=None, train_metrics=None, valid_metrics=None):\n",
    "        self.config.epochs = epochs\n",
    "        self.config.lr = lr\n",
    "        self.config.wd = wd\n",
    "        \n",
    "        # defaults\n",
    "        self._defaults(epochs, lr, wd)\n",
    "        self.optimizer = ifnone(optimizer, self.optimizer)\n",
    "        self.loss_func = ifnone(loss_func, self.loss_func)\n",
    "        self.scheduler = ifnone(scheduler, self.scheduler)\n",
    "        if train_metrics and valid_metrics:\n",
    "            self.metrics = Metrics(train_metrics, valid_metrics)\n",
    "\n",
    "        \n",
    "    def train_step(self, preds_b, labels_b):\n",
    "        loss = self.loss_func(preds_b, labels_b)\n",
    "        self.optimizer.zero_grad()\n",
    "        loss.backward()\n",
    "        self.optimizer.step()\n",
    "        self.scheduler.step()\n",
    "        \n",
    "        # metrics\n",
    "        metrics = self.metrics.update_train(preds_b, labels_b)\n",
    "        self.log({\"train_loss\": loss.item(), \"learning_rate\": self.scheduler.get_last_lr()[0]})\n",
    "        self.log(metrics)\n",
    "        return loss\n",
    "    \n",
    "    def valid_step(self, preds_b, labels_b):\n",
    "        loss = self.loss_func(preds_b, labels_b)\n",
    "        \n",
    "        # metrics\n",
    "        metrics = self.metrics.update_valid(preds_b, labels_b)\n",
    "        return loss\n",
    "    \n",
    "    def switch(self, is_train=True):\n",
    "        if is_train:\n",
    "            self.model.train()\n",
    "            dl = self.train_dataloader\n",
    "            ctx = torch.enable_grad()\n",
    "        else:\n",
    "            self.model.eval()\n",
    "            dl = self.valid_dataloader\n",
    "            ctx = torch.inference_mode()\n",
    "        return dl, ctx\n",
    "    \n",
    "    def one_epoch(self, is_train=True):\n",
    "        avg_loss = 0.\n",
    "        dl, ctx = self.switch(is_train)\n",
    "        pbar = progress_bar(dl, leave=False)\n",
    "        preds = []\n",
    "        for i, b in enumerate(pbar):\n",
    "            with ctx and (mixed_precision if self.fp16 else nullcontext):\n",
    "                images, labels = to_device(b, self.device)\n",
    "                preds_b = self.model(images)         \n",
    "                preds.append(preds_b)\n",
    "                if is_train:\n",
    "                    loss = self.train_step(preds_b, labels)\n",
    "                else:\n",
    "                    loss = self.valid_step(preds_b, labels)\n",
    "                avg_loss += loss\n",
    "            pbar.comment = f\"loss={loss.item():2.3f}\"\n",
    "        return torch.cat(preds, dim=0), avg_loss.mean().item()\n",
    "    \n",
    "    def epoch_ends(self):\n",
    "        print(f\"\n",
    "    \n",
    "    def validate(self):\n",
    "        if self.valid_dataloader is not None:\n",
    "            _, avg_loss = self.one_epoch(is_train=False)\n",
    "            self.log({\"val_loss\": avg_loss})\n",
    "            self.log(self.metrics.compute_valid())\n",
    "    \n",
    "    def get_data_tensors():\n",
    "        raise NotImplementedError()\n",
    "    \n",
    "    def get_model_preds(self, with_inputs=False):\n",
    "        preds, loss = self.one_epoch(train=False)\n",
    "        if with_inputs:\n",
    "            images, labels = self.get_data_tensors()\n",
    "            return images, labels, preds, loss\n",
    "        else:\n",
    "            return preds, loss\n",
    "    \n",
    "    def fit(self, log_preds=False):    \n",
    "        for epoch in progress_bar(range(self.config.epochs), total=self.config.epochs, leave=True):\n",
    "            _  = self.one_epoch(is_train=True)\n",
    "            \n",
    "            self.log({\"epoch\":epoch})\n",
    "                \n",
    "            ## validation\n",
    "            self.validate()\n",
    "                \n",
    "            self.metrics.reset()\n",
    "        if self.use_wandb:\n",
    "            if log_preds:\n",
    "                print(\"Logging model predictions on validation data\")\n",
    "                preds, _ = self.get_model_preds()\n",
    "                self.preds_logger.log(preds=preds)\n",
    "            wandb.finish()"
   ]
  },
  {
   "cell_type": "code",
   "execution_count": 196,
   "metadata": {},
   "outputs": [],
   "source": [
    "import timm\n",
    "import torchvision as tv\n",
    "import torchvision.transforms as T"
   ]
  },
  {
   "cell_type": "code",
   "execution_count": 197,
   "metadata": {},
   "outputs": [],
   "source": [
    "model_name = \"resnet10t\"\n",
    "model = timm.create_model(model_name, pretrained=False, num_classes=10, in_chans=1)"
   ]
  },
  {
   "cell_type": "code",
   "execution_count": 198,
   "metadata": {},
   "outputs": [],
   "source": [
    "CM = CapeModel(model=model)"
   ]
  },
  {
   "cell_type": "code",
   "execution_count": 199,
   "metadata": {},
   "outputs": [],
   "source": [
    "data_path = \".\""
   ]
  },
  {
   "cell_type": "code",
   "execution_count": 200,
   "metadata": {},
   "outputs": [],
   "source": [
    "train_tfms = T.Compose([\n",
    "    # T.Resize((32,32)),\n",
    "    T.RandomCrop(28, padding=4), \n",
    "    # T.RandAugment(num_ops=2),\n",
    "    T.RandomHorizontalFlip(),\n",
    "    T.ToTensor(),\n",
    "    T.Normalize((0.1307,), (0.3081,)),\n",
    "    T.RandomErasing(),\n",
    "])\n",
    "\n",
    "val_tfms = T.Compose([\n",
    "    # T.Resize((32,32)),\n",
    "    T.ToTensor(),\n",
    "    T.Normalize((0.1307,), (0.3081,)),\n",
    "])\n",
    "\n",
    "tfms ={\"train\": train_tfms, \"valid\":val_tfms}"
   ]
  },
  {
   "cell_type": "code",
   "execution_count": 201,
   "metadata": {},
   "outputs": [],
   "source": [
    "train_ds = tv.datasets.FashionMNIST(data_path, download=True, transform=tfms[\"train\"])\n",
    "valid_ds = tv.datasets.FashionMNIST(data_path, download=True, train=False, transform=tfms[\"valid\"])"
   ]
  },
  {
   "cell_type": "code",
   "execution_count": 202,
   "metadata": {},
   "outputs": [],
   "source": [
    "bs=256\n",
    "num_workers=8"
   ]
  },
  {
   "cell_type": "code",
   "execution_count": 203,
   "metadata": {},
   "outputs": [],
   "source": [
    "train_dataloader = DataLoader(train_ds, batch_size=bs, shuffle=True, pin_memory=True, num_workers=num_workers)\n",
    "valid_dataloader = DataLoader(valid_ds, batch_size=bs*2, shuffle=False, num_workers=num_workers)"
   ]
  },
  {
   "cell_type": "code",
   "execution_count": 204,
   "metadata": {},
   "outputs": [],
   "source": [
    "CM.data(train_dataloader, valid_dataloader)"
   ]
  },
  {
   "cell_type": "code",
   "execution_count": 205,
   "metadata": {},
   "outputs": [],
   "source": [
    "CM.prepare(epochs=1)"
   ]
  },
  {
   "cell_type": "code",
   "execution_count": 206,
   "metadata": {},
   "outputs": [
    {
     "data": {
      "text/html": [
       "\n",
       "<style>\n",
       "    /* Turns off some styling */\n",
       "    progress {\n",
       "        /* gets rid of default border in Firefox and Opera. */\n",
       "        border: none;\n",
       "        /* Needs to be in here for Safari polyfill so background images work as expected. */\n",
       "        background-size: auto;\n",
       "    }\n",
       "    progress:not([value]), progress:not([value])::-webkit-progress-bar {\n",
       "        background: repeating-linear-gradient(45deg, #7e7e7e, #7e7e7e 10px, #5c5c5c 10px, #5c5c5c 20px);\n",
       "    }\n",
       "    .progress-bar-interrupted, .progress-bar-interrupted::-webkit-progress-bar {\n",
       "        background: #F44336;\n",
       "    }\n",
       "</style>\n"
      ],
      "text/plain": [
       "<IPython.core.display.HTML object>"
      ]
     },
     "metadata": {},
     "output_type": "display_data"
    },
    {
     "data": {
      "text/html": [
       "\n",
       "    <div>\n",
       "      <progress value='1' class='' max='1' style='width:300px; height:20px; vertical-align: middle;'></progress>\n",
       "      100.00% [1/1 00:05&lt;00:00]\n",
       "    </div>\n",
       "    "
      ],
      "text/plain": [
       "<IPython.core.display.HTML object>"
      ]
     },
     "metadata": {},
     "output_type": "display_data"
    },
    {
     "data": {
      "text/html": [
       "\n",
       "<style>\n",
       "    /* Turns off some styling */\n",
       "    progress {\n",
       "        /* gets rid of default border in Firefox and Opera. */\n",
       "        border: none;\n",
       "        /* Needs to be in here for Safari polyfill so background images work as expected. */\n",
       "        background-size: auto;\n",
       "    }\n",
       "    progress:not([value]), progress:not([value])::-webkit-progress-bar {\n",
       "        background: repeating-linear-gradient(45deg, #7e7e7e, #7e7e7e 10px, #5c5c5c 10px, #5c5c5c 20px);\n",
       "    }\n",
       "    .progress-bar-interrupted, .progress-bar-interrupted::-webkit-progress-bar {\n",
       "        background: #F44336;\n",
       "    }\n",
       "</style>\n"
      ],
      "text/plain": [
       "<IPython.core.display.HTML object>"
      ]
     },
     "metadata": {},
     "output_type": "display_data"
    },
    {
     "data": {
      "text/html": [],
      "text/plain": [
       "<IPython.core.display.HTML object>"
      ]
     },
     "metadata": {},
     "output_type": "display_data"
    },
    {
     "data": {
      "text/html": [
       "\n",
       "<style>\n",
       "    /* Turns off some styling */\n",
       "    progress {\n",
       "        /* gets rid of default border in Firefox and Opera. */\n",
       "        border: none;\n",
       "        /* Needs to be in here for Safari polyfill so background images work as expected. */\n",
       "        background-size: auto;\n",
       "    }\n",
       "    progress:not([value]), progress:not([value])::-webkit-progress-bar {\n",
       "        background: repeating-linear-gradient(45deg, #7e7e7e, #7e7e7e 10px, #5c5c5c 10px, #5c5c5c 20px);\n",
       "    }\n",
       "    .progress-bar-interrupted, .progress-bar-interrupted::-webkit-progress-bar {\n",
       "        background: #F44336;\n",
       "    }\n",
       "</style>\n"
      ],
      "text/plain": [
       "<IPython.core.display.HTML object>"
      ]
     },
     "metadata": {},
     "output_type": "display_data"
    },
    {
     "data": {
      "text/html": [],
      "text/plain": [
       "<IPython.core.display.HTML object>"
      ]
     },
     "metadata": {},
     "output_type": "display_data"
    }
   ],
   "source": [
    "CM.fit()"
   ]
  },
  {
   "cell_type": "code",
   "execution_count": 16,
   "metadata": {},
   "outputs": [],
   "source": [
    "n = 123123"
   ]
  },
  {
   "cell_type": "code",
   "execution_count": 22,
   "metadata": {},
   "outputs": [
    {
     "name": "stdout",
     "output_type": "stream",
     "text": [
      "    123123\n"
     ]
    }
   ],
   "source": [
    "print(f\"{n:10d}\")"
   ]
  },
  {
   "cell_type": "code",
   "execution_count": null,
   "metadata": {},
   "outputs": [],
   "source": []
  },
  {
   "cell_type": "code",
   "execution_count": null,
   "metadata": {},
   "outputs": [],
   "source": [
    "#| hide\n",
    "import nbdev; nbdev.nbdev_export()"
   ]
  }
 ],
 "metadata": {
  "kernelspec": {
   "display_name": "Python 3 (ipykernel)",
   "language": "python",
   "name": "python3"
  },
  "language_info": {
   "codemirror_mode": {
    "name": "ipython",
    "version": 3
   },
   "file_extension": ".py",
   "mimetype": "text/x-python",
   "name": "python",
   "nbconvert_exporter": "python",
   "pygments_lexer": "ipython3",
   "version": "3.9.15"
  }
 },
 "nbformat": 4,
 "nbformat_minor": 4
}
