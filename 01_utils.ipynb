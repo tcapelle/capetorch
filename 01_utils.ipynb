{
 "cells": [
  {
   "cell_type": "markdown",
   "id": "4926a340-c3bd-4037-ba29-e7425783d4bd",
   "metadata": {},
   "source": [
    "# Utils and Functions"
   ]
  },
  {
   "cell_type": "code",
   "execution_count": 1,
   "id": "18f50921-ff62-4e4c-a20d-e720a1687e8d",
   "metadata": {},
   "outputs": [],
   "source": [
    "#| default_exp utils"
   ]
  },
  {
   "cell_type": "code",
   "execution_count": 2,
   "id": "58919a21-2fca-45c6-8d99-8315b3031c40",
   "metadata": {},
   "outputs": [],
   "source": [
    "#| export\n",
    "import numpy as np\n",
    "\n",
    "import torch"
   ]
  },
  {
   "cell_type": "code",
   "execution_count": 3,
   "id": "148bd36e-f43e-4a52-98dc-576ec48bc917",
   "metadata": {},
   "outputs": [],
   "source": [
    "#\\ export\n",
    "def set_seed(s, reproducible=False):\n",
    "    \"Set random seed for `random`, `torch`, and `numpy` (where available) - fastai\"\n",
    "    try: torch.manual_seed(s)\n",
    "    except NameError: pass\n",
    "    try: torch.cuda.manual_seed_all(s)\n",
    "    except NameError: pass\n",
    "    try: np.random.seed(s%(2**32-1))\n",
    "    except NameError: pass\n",
    "    random.seed(s)\n",
    "    if reproducible:\n",
    "        torch.backends.cudnn.deterministic = True\n",
    "        torch.backends.cudnn.benchmark = False"
   ]
  },
  {
   "cell_type": "code",
   "execution_count": 142,
   "id": "fddc3f27-54d7-462a-b15a-0957a441a36a",
   "metadata": {},
   "outputs": [],
   "source": [
    "#\\ export\n",
    "def to_device(t, device):\n",
    "    if isinstance(t, (tuple, list)):\n",
    "        return [_t.to(device) for _t in t]\n",
    "    elif isinstance(t, torch.Tensor):\n",
    "        return t.to(device)\n",
    "    else:\n",
    "        raise(\"Not a Tensor or list of Tensors\")\n",
    "    return t     "
   ]
  }
 ],
 "metadata": {
  "kernelspec": {
   "display_name": "Python 3 (ipykernel)",
   "language": "python",
   "name": "python3"
  },
  "language_info": {
   "codemirror_mode": {
    "name": "ipython",
    "version": 3
   },
   "file_extension": ".py",
   "mimetype": "text/x-python",
   "name": "python",
   "nbconvert_exporter": "python",
   "pygments_lexer": "ipython3",
   "version": "3.9.15"
  }
 },
 "nbformat": 4,
 "nbformat_minor": 5
}
